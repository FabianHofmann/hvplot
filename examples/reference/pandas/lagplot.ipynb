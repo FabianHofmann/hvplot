{
 "cells": [
  {
   "cell_type": "code",
   "execution_count": null,
   "id": "70487970-9371-4020-968a-5e6ef6c86443",
   "metadata": {},
   "outputs": [],
   "source": [
    "import hvplot.pandas  # noqa\n",
    "import numpy as np\n",
    "import pandas as pd"
   ]
  },
  {
   "cell_type": "markdown",
   "id": "cc8658c7-f1f4-4080-92fb-b6ed000e5065",
   "metadata": {},
   "source": [
    "Lag plots are most commonly used to look for patterns in time series data."
   ]
  },
  {
   "cell_type": "markdown",
   "id": "f3d9e4d1-33ea-46c8-a54e-791567ebda65",
   "metadata": {},
   "source": [
    "Given the following time series:"
   ]
  },
  {
   "cell_type": "code",
   "execution_count": null,
   "id": "2d1ae113-6b1f-42ed-98bd-9bb8daa65587",
   "metadata": {},
   "outputs": [],
   "source": [
    "np.random.seed(5)\n",
    "x = np.cumsum(np.random.normal(loc=1, scale=5, size=50))\n",
    "s = pd.Series(x, name='Time series')\n",
    "\n",
    "s.hvplot()"
   ]
  },
  {
   "cell_type": "markdown",
   "id": "482bc2e7-56b7-47d2-b3e6-19cb1fe64fed",
   "metadata": {},
   "source": [
    "A lag plot with `lag=1` returns:"
   ]
  },
  {
   "cell_type": "code",
   "execution_count": null,
   "id": "5bfe7948-f7ef-4939-8ae9-5c2b8b33ff16",
   "metadata": {},
   "outputs": [],
   "source": [
    "hvplot.plotting.lag_plot(s, lag=1)"
   ]
  }
 ],
 "metadata": {
  "kernelspec": {
   "display_name": "Python 3 (ipykernel)",
   "language": "python",
   "name": "python3"
  },
  "language_info": {
   "codemirror_mode": {
    "name": "ipython",
    "version": 3
   },
   "file_extension": ".py",
   "mimetype": "text/x-python",
   "name": "python",
   "nbconvert_exporter": "python",
   "pygments_lexer": "ipython3",
   "version": "3.7.11"
  }
 },
 "nbformat": 4,
 "nbformat_minor": 5
}
