{
 "cells": [
  {
   "cell_type": "code",
   "execution_count": null,
   "id": "70487970-9371-4020-968a-5e6ef6c86443",
   "metadata": {},
   "outputs": [],
   "source": [
    "import hvplot.pandas  # noqa"
   ]
  },
  {
   "cell_type": "markdown",
   "id": "cc8658c7-f1f4-4080-92fb-b6ed000e5065",
   "metadata": {},
   "source": [
    "Parallel coordinates are a common way of visualizing and analyzing high-dimensional datasets.\n",
    "\n",
    "To show a set of points in an n-dimensional space, a backdrop is drawn consisting of n parallel lines, typically vertical and equally spaced. A point in n-dimensional space is represented as a polyline with vertices on the parallel axes; the position of the vertex on the i-th axis corresponds to the i-th coordinate of the point. "
   ]
  },
  {
   "cell_type": "code",
   "execution_count": null,
   "id": "57caf306-4fee-4fad-8ea3-9ec83f50eefe",
   "metadata": {},
   "outputs": [],
   "source": [
    "from bokeh.sampledata import iris\n",
    "\n",
    "iris = iris.flowers"
   ]
  },
  {
   "cell_type": "code",
   "execution_count": null,
   "id": "7f1136cc-cde9-4bda-8c2a-2aecb9f2c1ac",
   "metadata": {},
   "outputs": [],
   "source": [
    "iris.head()"
   ]
  },
  {
   "cell_type": "code",
   "execution_count": null,
   "id": "937b030f-5a5c-416c-b140-93126937489f",
   "metadata": {},
   "outputs": [],
   "source": [
    "hvplot.plotting.parallel_coordinates(\n",
    "    iris,\n",
    "    class_column='species',\n",
    "    cols=['sepal_length', 'petal_length', 'petal_width']\n",
    ")"
   ]
  }
 ],
 "metadata": {
  "kernelspec": {
   "display_name": "Python 3 (ipykernel)",
   "language": "python",
   "name": "python3"
  },
  "language_info": {
   "codemirror_mode": {
    "name": "ipython",
    "version": 3
   },
   "file_extension": ".py",
   "mimetype": "text/x-python",
   "name": "python",
   "nbconvert_exporter": "python",
   "pygments_lexer": "ipython3",
   "version": "3.7.11"
  }
 },
 "nbformat": 4,
 "nbformat_minor": 5
}
