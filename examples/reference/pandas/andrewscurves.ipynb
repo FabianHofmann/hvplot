{
 "cells": [
  {
   "cell_type": "code",
   "execution_count": null,
   "id": "70487970-9371-4020-968a-5e6ef6c86443",
   "metadata": {},
   "outputs": [],
   "source": [
    "import hvplot.pandas  # noqa"
   ]
  },
  {
   "cell_type": "markdown",
   "id": "cc8658c7-f1f4-4080-92fb-b6ed000e5065",
   "metadata": {},
   "source": [
    "Andrews curves provides a mechanism for visualising clusters of multivariate data.\n",
    "\n",
    "Andrews curves have the functional form:\n",
    "\n",
    "    f(t) = x_1/sqrt(2) + x_2 sin(t) + x_3 cos(t) + x_4 sin(2t) + x_5 cos(2t) + ...\n",
    "\n",
    "Where *x* coefficients correspond to the values of each dimension and *t* is\n",
    "linearly spaced between *-pi* and *+pi*. Each row of frame then corresponds to\n",
    "a single curve."
   ]
  },
  {
   "cell_type": "code",
   "execution_count": null,
   "id": "57caf306-4fee-4fad-8ea3-9ec83f50eefe",
   "metadata": {},
   "outputs": [],
   "source": [
    "from bokeh.sampledata import iris\n",
    "\n",
    "iris = iris.flowers"
   ]
  },
  {
   "cell_type": "code",
   "execution_count": null,
   "id": "7f1136cc-cde9-4bda-8c2a-2aecb9f2c1ac",
   "metadata": {},
   "outputs": [],
   "source": [
    "iris.head()"
   ]
  },
  {
   "cell_type": "code",
   "execution_count": null,
   "id": "937b030f-5a5c-416c-b140-93126937489f",
   "metadata": {},
   "outputs": [],
   "source": [
    "hvplot.plotting.andrews_curves(\n",
    "    iris,\n",
    "    class_column='species',\n",
    "    samples=20,\n",
    ")"
   ]
  },
  {
   "cell_type": "code",
   "execution_count": null,
   "id": "e81fe24b-c948-4a87-a9ba-fb56384dbdc0",
   "metadata": {},
   "outputs": [],
   "source": []
  }
 ],
 "metadata": {
  "kernelspec": {
   "display_name": "Python 3 (ipykernel)",
   "language": "python",
   "name": "python3"
  },
  "language_info": {
   "codemirror_mode": {
    "name": "ipython",
    "version": 3
   },
   "file_extension": ".py",
   "mimetype": "text/x-python",
   "name": "python",
   "nbconvert_exporter": "python",
   "pygments_lexer": "ipython3",
   "version": "3.7.11"
  }
 },
 "nbformat": 4,
 "nbformat_minor": 5
}
